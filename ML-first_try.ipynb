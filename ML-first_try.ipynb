{
  "nbformat": 4,
  "nbformat_minor": 0,
  "metadata": {
    "colab": {
      "name": "Untitled0.ipynb",
      "provenance": [],
      "authorship_tag": "ABX9TyNj+r1XX0xESNgBKzR1EJ2q",
      "include_colab_link": true
    },
    "kernelspec": {
      "name": "python3",
      "display_name": "Python 3"
    }
  },
  "cells": [
    {
      "cell_type": "markdown",
      "metadata": {
        "id": "view-in-github",
        "colab_type": "text"
      },
      "source": [
        "<a href=\"https://colab.research.google.com/github/yahya-10/Components-react/blob/main/ML-first_try.ipynb\" target=\"_parent\"><img src=\"https://colab.research.google.com/assets/colab-badge.svg\" alt=\"Open In Colab\"/></a>"
      ]
    },
    {
      "cell_type": "markdown",
      "metadata": {
        "id": "cvrOX2BlK6Zm"
      },
      "source": [
        "# importing the dataset\r\n"
      ]
    },
    {
      "cell_type": "code",
      "metadata": {
        "id": "F1gzbkIdzFiM",
        "colab": {
          "resources": {
            "http://localhost:8080/nbextensions/google.colab/files.js": {
              "data": "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",
              "ok": true,
              "headers": [
                [
                  "content-type",
                  "application/javascript"
                ]
              ],
              "status": 200,
              "status_text": ""
            }
          },
          "base_uri": "https://localhost:8080/",
          "height": 38
        },
        "outputId": "777f05ea-c10b-4e50-eb8b-8ad81811145f"
      },
      "source": [
        "from google.colab import files\r\n",
        "\r\n",
        "uploaded = files.upload()"
      ],
      "execution_count": 5,
      "outputs": [
        {
          "output_type": "display_data",
          "data": {
            "text/html": [
              "\n",
              "     <input type=\"file\" id=\"files-bb844192-fe9c-42c5-9e59-7bd6760dfae8\" name=\"files[]\" multiple disabled\n",
              "        style=\"border:none\" />\n",
              "     <output id=\"result-bb844192-fe9c-42c5-9e59-7bd6760dfae8\">\n",
              "      Upload widget is only available when the cell has been executed in the\n",
              "      current browser session. Please rerun this cell to enable.\n",
              "      </output>\n",
              "      <script src=\"/nbextensions/google.colab/files.js\"></script> "
            ],
            "text/plain": [
              "<IPython.core.display.HTML object>"
            ]
          },
          "metadata": {
            "tags": []
          }
        }
      ]
    },
    {
      "cell_type": "code",
      "metadata": {
        "colab": {
          "base_uri": "https://localhost:8080/"
        },
        "id": "lwBV1JMs26pZ",
        "outputId": "79af4066-dd18-4a9e-acd0-438441e7dc05"
      },
      "source": [
        "import pandas as pd\r\n",
        "\r\n",
        "df = pd.read_csv('/content/student-mat.csv', sep=\";\")\r\n",
        "\r\n",
        "print(df.head())"
      ],
      "execution_count": 9,
      "outputs": [
        {
          "output_type": "stream",
          "text": [
            "  school sex  age address famsize Pstatus  ...  Walc  health absences  G1  G2  G3\n",
            "0     GP   F   18       U     GT3       A  ...     1       3        6   5   6   6\n",
            "1     GP   F   17       U     GT3       T  ...     1       3        4   5   5   6\n",
            "2     GP   F   15       U     LE3       T  ...     3       3       10   7   8  10\n",
            "3     GP   F   15       U     GT3       T  ...     1       5        2  15  14  15\n",
            "4     GP   F   16       U     GT3       T  ...     2       5        4   6  10  10\n",
            "\n",
            "[5 rows x 33 columns]\n"
          ],
          "name": "stdout"
        }
      ]
    },
    {
      "cell_type": "markdown",
      "metadata": {
        "id": "eKVV--c5MOPd"
      },
      "source": [
        "# Trimming the data"
      ]
    },
    {
      "cell_type": "code",
      "metadata": {
        "colab": {
          "base_uri": "https://localhost:8080/"
        },
        "id": "7-V0GAE9MUSt",
        "outputId": "1a8d19eb-bead-4c8e-8808-a0223044344a"
      },
      "source": [
        "df = df[[\"G1\", \"G2\", \"G3\"]]\r\n",
        "print(df.head())"
      ],
      "execution_count": 13,
      "outputs": [
        {
          "output_type": "stream",
          "text": [
            "   G1  G2  G3\n",
            "0   5   6   6\n",
            "1   5   5   6\n",
            "2   7   8  10\n",
            "3  15  14  15\n",
            "4   6  10  10\n"
          ],
          "name": "stdout"
        }
      ]
    },
    {
      "cell_type": "markdown",
      "metadata": {
        "id": "qYb7Y03URWRa"
      },
      "source": [
        "# Seperate the data"
      ]
    },
    {
      "cell_type": "code",
      "metadata": {
        "id": "toTK8Mw7RbY3"
      },
      "source": [
        "import numpy as np\r\n",
        "X = np.array(df.drop([\"G3\"], 1))\r\n",
        "y = np.array(df[\"G3\"])\r\n"
      ],
      "execution_count": 18,
      "outputs": []
    },
    {
      "cell_type": "markdown",
      "metadata": {
        "id": "7CmH-B_STAPd"
      },
      "source": [
        "# Splitting the data into train set and test set"
      ]
    },
    {
      "cell_type": "code",
      "metadata": {
        "id": "dIKKA2GoTMGZ"
      },
      "source": [
        "from sklearn.model_selection import train_test_split\r\n",
        "X_train, X_test, y_train, y_test = train_test_split(X, y, test_size = 0.2, random_state = 1)"
      ],
      "execution_count": 20,
      "outputs": []
    },
    {
      "cell_type": "code",
      "metadata": {
        "colab": {
          "base_uri": "https://localhost:8080/"
        },
        "id": "-YgBTzHhUuIE",
        "outputId": "1906ad77-a9c8-455e-f3d0-cce8e6ad67ba"
      },
      "source": [
        "print(X_train)"
      ],
      "execution_count": 21,
      "outputs": [
        {
          "output_type": "stream",
          "text": [
            "[[13 13]\n",
            " [10  9]\n",
            " [10 10]\n",
            " [13 15]\n",
            " [10  8]\n",
            " [13 13]\n",
            " [ 9  9]\n",
            " [10 10]\n",
            " [13 13]\n",
            " [ 7  8]\n",
            " [13 11]\n",
            " [10 13]\n",
            " [ 7  0]\n",
            " [19 18]\n",
            " [11 10]\n",
            " [ 6  0]\n",
            " [ 7  8]\n",
            " [ 8  8]\n",
            " [ 7  6]\n",
            " [12 11]\n",
            " [16 18]\n",
            " [15 16]\n",
            " [ 8  6]\n",
            " [10 10]\n",
            " [12 12]\n",
            " [11 11]\n",
            " [17 18]\n",
            " [14 13]\n",
            " [ 6  5]\n",
            " [12 12]\n",
            " [11 14]\n",
            " [11  9]\n",
            " [13 13]\n",
            " [ 9  8]\n",
            " [12 10]\n",
            " [ 6  8]\n",
            " [14 13]\n",
            " [10 10]\n",
            " [10 13]\n",
            " [10  9]\n",
            " [13 15]\n",
            " [15 16]\n",
            " [16 15]\n",
            " [14 14]\n",
            " [17 18]\n",
            " [14 15]\n",
            " [16 17]\n",
            " [ 7  9]\n",
            " [ 8  9]\n",
            " [14 14]\n",
            " [ 7  6]\n",
            " [11  9]\n",
            " [ 9  9]\n",
            " [10  9]\n",
            " [ 7  7]\n",
            " [11 10]\n",
            " [ 8  0]\n",
            " [ 8  7]\n",
            " [14 13]\n",
            " [14 16]\n",
            " [ 7  0]\n",
            " [14 11]\n",
            " [14 12]\n",
            " [ 7 10]\n",
            " [11 13]\n",
            " [10 13]\n",
            " [14 15]\n",
            " [12 12]\n",
            " [13 14]\n",
            " [10 10]\n",
            " [ 5  6]\n",
            " [10 11]\n",
            " [12 12]\n",
            " [11 12]\n",
            " [13 15]\n",
            " [12 12]\n",
            " [ 6  5]\n",
            " [10 12]\n",
            " [16 15]\n",
            " [ 8  8]\n",
            " [ 8 11]\n",
            " [ 8  8]\n",
            " [19 18]\n",
            " [ 7  6]\n",
            " [ 9  8]\n",
            " [12 12]\n",
            " [ 8 10]\n",
            " [ 7  8]\n",
            " [ 6  5]\n",
            " [11 10]\n",
            " [16 15]\n",
            " [ 8  7]\n",
            " [10 11]\n",
            " [10 10]\n",
            " [ 7  7]\n",
            " [12 14]\n",
            " [18 19]\n",
            " [10  9]\n",
            " [18 18]\n",
            " [11  0]\n",
            " [14 12]\n",
            " [11 11]\n",
            " [ 8 10]\n",
            " [15 14]\n",
            " [17 15]\n",
            " [ 9  9]\n",
            " [10 10]\n",
            " [10  9]\n",
            " [15 14]\n",
            " [ 7  0]\n",
            " [10 13]\n",
            " [16 15]\n",
            " [14 14]\n",
            " [ 5  5]\n",
            " [15 14]\n",
            " [ 9 10]\n",
            " [16 18]\n",
            " [12 10]\n",
            " [ 7  9]\n",
            " [13 13]\n",
            " [14 15]\n",
            " [ 7  6]\n",
            " [11 11]\n",
            " [17 16]\n",
            " [ 8  9]\n",
            " [12 13]\n",
            " [17 16]\n",
            " [15 14]\n",
            " [15 15]\n",
            " [10  9]\n",
            " [ 9 12]\n",
            " [ 8 10]\n",
            " [13 12]\n",
            " [ 8  7]\n",
            " [12 10]\n",
            " [10  9]\n",
            " [ 9  8]\n",
            " [ 7  4]\n",
            " [11 12]\n",
            " [12 11]\n",
            " [13 13]\n",
            " [ 7 10]\n",
            " [ 8  8]\n",
            " [ 9 10]\n",
            " [ 8  9]\n",
            " [ 7  5]\n",
            " [13 13]\n",
            " [ 8  8]\n",
            " [ 7  7]\n",
            " [ 6  7]\n",
            " [ 3  5]\n",
            " [19 19]\n",
            " [18 19]\n",
            " [ 6  5]\n",
            " [ 9 10]\n",
            " [13 11]\n",
            " [ 7 10]\n",
            " [12 15]\n",
            " [16 17]\n",
            " [ 5  8]\n",
            " [16 16]\n",
            " [ 8 10]\n",
            " [ 9  9]\n",
            " [15 14]\n",
            " [ 4  0]\n",
            " [10  9]\n",
            " [11 11]\n",
            " [15 15]\n",
            " [12 13]\n",
            " [10  9]\n",
            " [ 9  0]\n",
            " [16 15]\n",
            " [11 13]\n",
            " [12 13]\n",
            " [18 16]\n",
            " [ 9 11]\n",
            " [ 6  5]\n",
            " [11 12]\n",
            " [12 10]\n",
            " [11 11]\n",
            " [ 6  6]\n",
            " [14 15]\n",
            " [13 11]\n",
            " [15 15]\n",
            " [15 13]\n",
            " [12 13]\n",
            " [ 8  9]\n",
            " [ 9  9]\n",
            " [ 9  7]\n",
            " [14 13]\n",
            " [ 6  5]\n",
            " [ 9  8]\n",
            " [10 13]\n",
            " [13 13]\n",
            " [13 14]\n",
            " [18 18]\n",
            " [16 17]\n",
            " [16 15]\n",
            " [ 7  6]\n",
            " [ 6  6]\n",
            " [12  0]\n",
            " [13 12]\n",
            " [10 11]\n",
            " [11 13]\n",
            " [ 8  9]\n",
            " [ 7  9]\n",
            " [ 7  6]\n",
            " [ 9  9]\n",
            " [10 10]\n",
            " [12 14]\n",
            " [10  8]\n",
            " [ 6  0]\n",
            " [11 15]\n",
            " [ 8  8]\n",
            " [12 12]\n",
            " [14 15]\n",
            " [17 17]\n",
            " [15 16]\n",
            " [12 13]\n",
            " [13 14]\n",
            " [ 8  7]\n",
            " [ 9  9]\n",
            " [16 16]\n",
            " [11 11]\n",
            " [10  9]\n",
            " [ 9  9]\n",
            " [ 8  9]\n",
            " [11 13]\n",
            " [ 7  8]\n",
            " [11 11]\n",
            " [13 12]\n",
            " [ 8  9]\n",
            " [10  9]\n",
            " [ 9  9]\n",
            " [12 13]\n",
            " [13 13]\n",
            " [15 12]\n",
            " [11 12]\n",
            " [11 12]\n",
            " [13 12]\n",
            " [ 6  5]\n",
            " [13 14]\n",
            " [ 7  7]\n",
            " [14 14]\n",
            " [12 14]\n",
            " [ 9  9]\n",
            " [15 14]\n",
            " [10  0]\n",
            " [10 10]\n",
            " [15 15]\n",
            " [ 8  8]\n",
            " [11  8]\n",
            " [10 11]\n",
            " [ 7 10]\n",
            " [14 15]\n",
            " [17 17]\n",
            " [13 13]\n",
            " [16 18]\n",
            " [ 5  0]\n",
            " [12 12]\n",
            " [16 15]\n",
            " [ 6  9]\n",
            " [17 15]\n",
            " [10 10]\n",
            " [14 14]\n",
            " [10  8]\n",
            " [14 15]\n",
            " [14 13]\n",
            " [15 12]\n",
            " [12 12]\n",
            " [11 11]\n",
            " [ 8  8]\n",
            " [ 8  8]\n",
            " [15 14]\n",
            " [10 10]\n",
            " [ 7  7]\n",
            " [10  9]\n",
            " [ 9 11]\n",
            " [16 14]\n",
            " [15 15]\n",
            " [ 7  7]\n",
            " [ 6  6]\n",
            " [ 9 10]\n",
            " [ 7  7]\n",
            " [ 8  8]\n",
            " [ 5  5]\n",
            " [13 10]\n",
            " [15 15]\n",
            " [ 9 10]\n",
            " [11 11]\n",
            " [ 6  5]\n",
            " [ 9  9]\n",
            " [ 8  7]\n",
            " [ 8  7]\n",
            " [10 11]\n",
            " [14 15]\n",
            " [ 8  9]\n",
            " [12 13]\n",
            " [16 12]\n",
            " [ 6  9]\n",
            " [12 12]\n",
            " [ 8 12]\n",
            " [10  9]\n",
            " [10  8]\n",
            " [11  9]\n",
            " [13 12]\n",
            " [10 10]\n",
            " [18 18]\n",
            " [ 5  0]\n",
            " [16 15]\n",
            " [12 11]\n",
            " [ 7  6]\n",
            " [ 7  9]\n",
            " [ 8  6]\n",
            " [11  9]\n",
            " [15 16]]\n"
          ],
          "name": "stdout"
        }
      ]
    },
    {
      "cell_type": "code",
      "metadata": {
        "colab": {
          "base_uri": "https://localhost:8080/"
        },
        "id": "elV5YspcUuVb",
        "outputId": "a897cdc7-5c92-4f77-e907-7b41fea12e36"
      },
      "source": [
        "print(X_test)"
      ],
      "execution_count": 22,
      "outputs": [
        {
          "output_type": "stream",
          "text": [
            "[[ 6  7]\n",
            " [10 10]\n",
            " [ 6  8]\n",
            " [ 9  9]\n",
            " [11 10]\n",
            " [12 11]\n",
            " [ 9  8]\n",
            " [14 12]\n",
            " [11 12]\n",
            " [ 9  8]\n",
            " [14 12]\n",
            " [15 14]\n",
            " [ 6  7]\n",
            " [ 5  9]\n",
            " [ 8  9]\n",
            " [13 11]\n",
            " [15 15]\n",
            " [14 16]\n",
            " [ 7  7]\n",
            " [10 10]\n",
            " [12 11]\n",
            " [18 18]\n",
            " [ 8 10]\n",
            " [10 12]\n",
            " [16 15]\n",
            " [ 6  5]\n",
            " [13 11]\n",
            " [10  8]\n",
            " [ 6 10]\n",
            " [15 13]\n",
            " [14 12]\n",
            " [12 12]\n",
            " [ 8  8]\n",
            " [11 11]\n",
            " [13 13]\n",
            " [ 7  9]\n",
            " [11 11]\n",
            " [ 7 10]\n",
            " [10  8]\n",
            " [11 11]\n",
            " [ 9 10]\n",
            " [10 11]\n",
            " [16 16]\n",
            " [ 7  8]\n",
            " [12 10]\n",
            " [14 12]\n",
            " [18 18]\n",
            " [ 8 10]\n",
            " [13 13]\n",
            " [ 8  9]\n",
            " [ 6  5]\n",
            " [11 12]\n",
            " [13 11]\n",
            " [ 7  6]\n",
            " [ 9  7]\n",
            " [11 10]\n",
            " [ 7  7]\n",
            " [16 15]\n",
            " [ 8 10]\n",
            " [ 6  5]\n",
            " [ 8  7]\n",
            " [10  9]\n",
            " [14 12]\n",
            " [16 16]\n",
            " [13 14]\n",
            " [ 8  9]\n",
            " [11 11]\n",
            " [15 15]\n",
            " [ 9  9]\n",
            " [11 10]\n",
            " [13 15]\n",
            " [10 12]\n",
            " [10 12]\n",
            " [14 13]\n",
            " [12 12]\n",
            " [10 10]\n",
            " [11 11]\n",
            " [14 13]\n",
            " [12 12]]\n"
          ],
          "name": "stdout"
        }
      ]
    },
    {
      "cell_type": "code",
      "metadata": {
        "colab": {
          "base_uri": "https://localhost:8080/"
        },
        "id": "LyP2gTWmUuig",
        "outputId": "336b2dbf-6812-4fac-9d17-ae41e8ded1a8"
      },
      "source": [
        "print(y_train)"
      ],
      "execution_count": 23,
      "outputs": [
        {
          "output_type": "stream",
          "text": [
            "[12  0 11 15 11 13 10 10 13  0 11 14  0 19 10  0  8  9  6 12 18 15  7  9\n",
            " 14 11 18 13  6 13 14  9 12  8 11  8 13 10 12 11 15 16 15 14 18 16 18  8\n",
            "  9 14  7  9  0  9  8 10  0  8 13 16  0 13 12 10 13 13 15 13 14 11  6 11\n",
            " 11 13 15 11  0 12 15 10 11  8 18  0  7 13 10  8  0 10 17  9 11  0  5 15\n",
            " 19  9 18  0 12 12 10 14 15  9  9 10 14  0 13 15 14  5 15 10 19 12  8 14\n",
            " 16  0 11 17 10 13 16 14 14  9 11 12 12  6 11  9 10  0 11 12 12 10  0 10\n",
            " 10  0 13  6  7  0  5 20 19  6 10 11 11 15 17  7 16 11 10 14  0  8 11 15\n",
            " 12  9  0 16 14 14 16 11  5 11 10 11  8 15 11 15 15 12 10  9  8 14  0  0\n",
            " 13 11 14 18 17 15  6  6  0 12 11 14 10  0  0 10 10 15  9  0 15  8 12 15\n",
            " 18 18 13 15  8 10 16 11  9  9 10 13 10 10 12  8  0  8 14 13 14 13 11 12\n",
            "  0 14  0 13 14 10 14  0 10 15  8  8 10 11 15 17 13 18  0 12 15  8 16 10\n",
            " 14  8 16 13 12 11 10 11  8 15 10  7 10 12 15 16  9  4  0  7  0  6 11 16\n",
            "  9 11  6  9  6  8 12 15  8 13 13  8 11 12  9  9 10 12 10 18  0 15 11  6\n",
            "  8  5 10 15]\n"
          ],
          "name": "stdout"
        }
      ]
    },
    {
      "cell_type": "code",
      "metadata": {
        "colab": {
          "base_uri": "https://localhost:8080/"
        },
        "id": "oOJxYsmmUuwa",
        "outputId": "f0d272fc-68d6-4d9e-b609-a5d5dd153984"
      },
      "source": [
        "print(y_test)"
      ],
      "execution_count": 24,
      "outputs": [
        {
          "output_type": "stream",
          "text": [
            "[ 0 10  8 10 10 12  8 11 11  8 11 13  8  7 10 10 15 16  8 10 11 19 10 11\n",
            " 16  5 11  9 10 13 12 11 10 11 14  8 10 10  7 10  9  9 15  9 11 13 18  9\n",
            " 14 10  5 10 11  6  6 11  6 15 10  0  0  0 13 17 13  8 10 15  9 10 16 12\n",
            " 12 14 12 11 10 13 12]\n"
          ],
          "name": "stdout"
        }
      ]
    },
    {
      "cell_type": "markdown",
      "metadata": {
        "id": "l2wvXwMMVlGT"
      },
      "source": [
        "# Implement the algorithm (Linear regression)"
      ]
    },
    {
      "cell_type": "code",
      "metadata": {
        "id": "CPhwooaLVuDH"
      },
      "source": [
        "import sklearn\r\n",
        "from sklearn import linear_model\r\n",
        "linear = linear_model.LinearRegression()\r\n",
        "\r\n",
        "linear.fit(X_train, y_train)\r\n",
        "accuracy = linear.score(X_test, y_test)\r\n"
      ],
      "execution_count": 28,
      "outputs": []
    },
    {
      "cell_type": "code",
      "metadata": {
        "colab": {
          "base_uri": "https://localhost:8080/"
        },
        "id": "mW2sg5bAWj3D",
        "outputId": "0d48512e-0b19-42b7-f759-5490d9f6b820"
      },
      "source": [
        "print(accuracy)"
      ],
      "execution_count": 29,
      "outputs": [
        {
          "output_type": "stream",
          "text": [
            "0.7818293776583642\n"
          ],
          "name": "stdout"
        }
      ]
    },
    {
      "cell_type": "markdown",
      "metadata": {
        "id": "wswxarngXjmh"
      },
      "source": [
        "# Predicting on specific student"
      ]
    },
    {
      "cell_type": "code",
      "metadata": {
        "colab": {
          "base_uri": "https://localhost:8080/"
        },
        "id": "Nua1IZQlXq5-",
        "outputId": "bb84146c-bd97-49e2-f020-faa630a85497"
      },
      "source": [
        "preds = linear.predict(X_test)\r\n",
        "\r\n",
        "for x in range(len(preds)):\r\n",
        "  print(preds[x], X_test[x], y_test[x])"
      ],
      "execution_count": 31,
      "outputs": [
        {
          "output_type": "stream",
          "text": [
            "5.992145696810083 [6 7] 0\n",
            "9.587820735116551 [10 10] 10\n",
            "6.965777551589623 [6 8] 8\n",
            "8.44549401184505 [9 9] 10\n",
            "9.756515603608513 [11 10] 10\n",
            "10.898842326880013 [12 11] 12\n",
            "7.471862157065511 [9 8] 8\n",
            "12.209863918643478 [14 12] 11\n",
            "11.703779313167589 [11 12] 11\n",
            "7.471862157065511 [9 8] 8\n",
            "12.209863918643478 [14 12] 11\n",
            "14.325822496694517 [15 14] 13\n",
            "5.992145696810083 [6 7] 8\n",
            "7.770714537877199 [5 9] 7\n",
            "8.276799143353086 [8 9] 10\n",
            "11.067537195371976 [13 11] 10\n",
            "15.299454351474054 [15 15] 15\n",
            "16.10439133776163 [14 16] 16\n",
            "6.160840565302046 [7 7] 8\n",
            "9.587820735116551 [10 10] 10\n",
            "10.898842326880013 [12 11] 11\n",
            "18.72643452128856 [18 18] 19\n",
            "9.250430998132625 [ 8 10] 10\n",
            "11.535084444675627 [10 12] 11\n",
            "15.468149219966019 [16 15] 16\n",
            "4.044881987251007 [6 5] 5\n",
            "11.067537195371976 [13 11] 11\n",
            "7.640557025557474 [10  8] 9\n",
            "8.9130412611487 [ 6 10] 10\n",
            "13.352190641914978 [15 13] 13\n",
            "12.209863918643478 [14 12] 12\n",
            "11.872474181659552 [12 12] 11\n",
            "7.3031672885735475 [8 8] 10\n",
            "10.73014745838805 [11 11] 11\n",
            "13.014800904931054 [13 13] 14\n",
            "8.108104274861123 [7 9] 8\n",
            "10.73014745838805 [11 11] 10\n",
            "9.081736129640662 [ 7 10] 10\n",
            "7.640557025557474 [10  8] 7\n",
            "10.73014745838805 [11 11] 10\n",
            "9.419125866624588 [ 9 10] 9\n",
            "10.561452589896088 [10 11] 9\n",
            "16.441781074745556 [16 16] 15\n",
            "7.134472420081584 [7 8] 9\n",
            "9.925210472100476 [12 10] 11\n",
            "12.209863918643478 [14 12] 13\n",
            "18.72643452128856 [18 18] 18\n",
            "9.250430998132625 [ 8 10] 9\n",
            "13.014800904931054 [13 13] 14\n",
            "8.276799143353086 [8 9] 10\n",
            "4.044881987251007 [6 5] 5\n",
            "11.703779313167589 [11 12] 10\n",
            "11.067537195371976 [13 11] 11\n",
            "5.187208710522508 [7 6] 6\n",
            "6.498230302285972 [9 7] 6\n",
            "9.756515603608513 [11 10] 11\n",
            "6.160840565302046 [7 7] 6\n",
            "15.468149219966019 [16 15] 15\n",
            "9.250430998132625 [ 8 10] 10\n",
            "4.044881987251007 [6 5] 0\n",
            "6.329535433794009 [8 7] 0\n",
            "8.614188880337013 [10  9] 0\n",
            "12.209863918643478 [14 12] 13\n",
            "16.441781074745556 [16 16] 17\n",
            "13.98843275971059 [13 14] 13\n",
            "8.276799143353086 [8 9] 8\n",
            "10.73014745838805 [11 11] 10\n",
            "15.299454351474054 [15 15] 15\n",
            "8.44549401184505 [9 9] 9\n",
            "9.756515603608513 [11 10] 10\n",
            "14.962064614490128 [13 15] 16\n",
            "11.535084444675627 [10 12] 12\n",
            "11.535084444675627 [10 12] 12\n",
            "13.183495773423017 [14 13] 14\n",
            "11.872474181659552 [12 12] 12\n",
            "9.587820735116551 [10 10] 11\n",
            "10.73014745838805 [11 11] 10\n",
            "13.183495773423017 [14 13] 13\n",
            "11.872474181659552 [12 12] 12\n"
          ],
          "name": "stdout"
        }
      ]
    }
  ]
}